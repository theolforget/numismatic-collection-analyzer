{
 "cells": [
  {
   "cell_type": "code",
   "execution_count": 1,
   "id": "c010191d-e7a9-45b6-8b9b-5829b184cb1d",
   "metadata": {},
   "outputs": [
    {
     "name": "stdout",
     "output_type": "stream",
     "text": [
      "Requirement already satisfied: pandas in /Users/theoforget/miniconda3/lib/python3.11/site-packages (2.2.3)\n",
      "Requirement already satisfied: numpy in /Users/theoforget/miniconda3/lib/python3.11/site-packages (2.2.6)\n",
      "Requirement already satisfied: requests in /Users/theoforget/miniconda3/lib/python3.11/site-packages (2.31.0)\n",
      "Requirement already satisfied: beautifulsoup4 in /Users/theoforget/miniconda3/lib/python3.11/site-packages (4.13.4)\n",
      "Requirement already satisfied: matplotlib in /Users/theoforget/miniconda3/lib/python3.11/site-packages (3.10.3)\n",
      "Requirement already satisfied: python-dateutil>=2.8.2 in /Users/theoforget/miniconda3/lib/python3.11/site-packages (from pandas) (2.8.2)\n",
      "Requirement already satisfied: pytz>=2020.1 in /Users/theoforget/miniconda3/lib/python3.11/site-packages (from pandas) (2025.2)\n",
      "Requirement already satisfied: tzdata>=2022.7 in /Users/theoforget/miniconda3/lib/python3.11/site-packages (from pandas) (2025.2)\n",
      "Requirement already satisfied: charset-normalizer<4,>=2 in /Users/theoforget/miniconda3/lib/python3.11/site-packages (from requests) (2.0.4)\n",
      "Requirement already satisfied: idna<4,>=2.5 in /Users/theoforget/miniconda3/lib/python3.11/site-packages (from requests) (3.4)\n",
      "Requirement already satisfied: urllib3<3,>=1.21.1 in /Users/theoforget/miniconda3/lib/python3.11/site-packages (from requests) (1.26.18)\n",
      "Requirement already satisfied: certifi>=2017.4.17 in /Users/theoforget/miniconda3/lib/python3.11/site-packages (from requests) (2023.11.17)\n",
      "Requirement already satisfied: soupsieve>1.2 in /Users/theoforget/miniconda3/lib/python3.11/site-packages (from beautifulsoup4) (2.7)\n",
      "Requirement already satisfied: typing-extensions>=4.0.0 in /Users/theoforget/miniconda3/lib/python3.11/site-packages (from beautifulsoup4) (4.9.0)\n",
      "Requirement already satisfied: contourpy>=1.0.1 in /Users/theoforget/miniconda3/lib/python3.11/site-packages (from matplotlib) (1.3.2)\n",
      "Requirement already satisfied: cycler>=0.10 in /Users/theoforget/miniconda3/lib/python3.11/site-packages (from matplotlib) (0.12.1)\n",
      "Requirement already satisfied: fonttools>=4.22.0 in /Users/theoforget/miniconda3/lib/python3.11/site-packages (from matplotlib) (4.58.1)\n",
      "Requirement already satisfied: kiwisolver>=1.3.1 in /Users/theoforget/miniconda3/lib/python3.11/site-packages (from matplotlib) (1.4.8)\n",
      "Requirement already satisfied: packaging>=20.0 in /Users/theoforget/miniconda3/lib/python3.11/site-packages (from matplotlib) (23.1)\n",
      "Requirement already satisfied: pillow>=8 in /Users/theoforget/miniconda3/lib/python3.11/site-packages (from matplotlib) (11.2.1)\n",
      "Requirement already satisfied: pyparsing>=2.3.1 in /Users/theoforget/miniconda3/lib/python3.11/site-packages (from matplotlib) (3.2.3)\n",
      "Requirement already satisfied: six>=1.5 in /Users/theoforget/miniconda3/lib/python3.11/site-packages (from python-dateutil>=2.8.2->pandas) (1.16.0)\n"
     ]
    }
   ],
   "source": [
    "# Numismatic ETL Pipeline\n",
    "# Theo Forget\n",
    "# May 29th, 2025\n",
    "#\n",
    "# This notebook processes and analyzes a personal numismatic (banknote) collection exported from Numista.\n",
    "# It parses the 'Private comment' field, integrates live currency exchange rates via API to calculate real-time USD valuations,\n",
    "# detects errors (e.g., malformed entries, unknown currency codes), and visualizes key insights such as top-value items and acquirer statistics.\n",
    "# Technologies used: Python, Pandas, Requests, Matplotlib.\n",
    "\n",
    "# Install and Import Dependencies\n",
    "!pip install pandas numpy requests beautifulsoup4 matplotlib\n",
    "\n",
    "import pandas as pd\n",
    "import numpy as np\n",
    "import requests\n",
    "import matplotlib.pyplot as plt"
   ]
  },
  {
   "cell_type": "code",
   "execution_count": 2,
   "id": "4b8fd411-7ede-4305-9c3d-9066f5736b59",
   "metadata": {},
   "outputs": [],
   "source": [
    "# Load the CSV File\n",
    "csv_path = \"/Users/theoforget/Downloads/theoforget_export.csv\"\n",
    "df = pd.read_csv(csv_path)"
   ]
  },
  {
   "cell_type": "code",
   "execution_count": 3,
   "id": "74462000-038f-423f-9fd8-a145dfa64183",
   "metadata": {},
   "outputs": [],
   "source": [
    "# Define Parsing Function and Apply It\n",
    "\n",
    "def parse_private_comment(comment):\n",
    "    try:\n",
    "        cleaned = comment.replace(\"\\u202f\", \" \").strip()\n",
    "        parts = [part.strip() for part in cleaned.split(\",\")]\n",
    "        return pd.Series(parts) if len(parts) == 7 else pd.Series([None]*7)\n",
    "    except Exception:\n",
    "        return pd.Series([None]*7)\n",
    "\n",
    "# Apply parsing to 'Private comment'\n",
    "parsed_cols = df['Private comment'].apply(parse_private_comment)\n",
    "parsed_cols.columns = [\n",
    "    \"Parsed_Grade\", \"Parsed_SerialNumber\", \"Parsed_LocationAcquired\",\n",
    "    \"Parsed_DateAcquired\", \"Parsed_Acquirer\", \"Parsed_Denomination\", \"Parsed_CountryCode\"\n",
    "]\n",
    "\n",
    "# Merge parsed data with original dataframe\n",
    "df_clean = pd.concat([df, parsed_cols], axis=1)\n",
    "df_clean['Parsed_Denomination'] = pd.to_numeric(df_clean['Parsed_Denomination'], errors='coerce')\n",
    "df_clean['Parsed_CountryCode'] = df_clean['Parsed_CountryCode'].str.upper()"
   ]
  },
  {
   "cell_type": "code",
   "execution_count": 4,
   "id": "591247db-d75e-4dad-8720-e8d380606d8e",
   "metadata": {},
   "outputs": [
    {
     "name": "stdout",
     "output_type": "stream",
     "text": [
      "Number of malformed rows: 38\n",
      "                      Title                                    Private comment\n",
      "16                   10 Lek  Ungraded, U437795, North Macedonia, 2024, Theo...\n",
      "17             5 Franka Ari  Ungraded, X38152, North Macedonia, 2024, Theo ...\n",
      "18                 100 Leke  Ungraded, AB629828, North Macedonia, 2024, The...\n",
      "21                 500 Lekë  Ungraded, HR548854, Albania, ?, Stephan Forget...\n",
      "108  20 Francs - Baudouin I  Ungraded,  1E6888029, Belgique, ?, Jean-Paul C...\n"
     ]
    }
   ],
   "source": [
    "# Identify Malformed Rows\n",
    "malformed_rows = df_clean[df_clean[['Parsed_Grade', 'Parsed_SerialNumber', 'Parsed_LocationAcquired', \n",
    "                                    'Parsed_DateAcquired', 'Parsed_Acquirer', \n",
    "                                    'Parsed_Denomination', 'Parsed_CountryCode']].isnull().any(axis=1)]\n",
    "print(f\"Number of malformed rows: {len(malformed_rows)}\")\n",
    "print(malformed_rows[['Title', 'Private comment']].head())"
   ]
  },
  {
   "cell_type": "code",
   "execution_count": 5,
   "id": "a5827cdf-d022-42c4-8d13-c4821ae71b2e",
   "metadata": {},
   "outputs": [
    {
     "name": "stdout",
     "output_type": "stream",
     "text": [
      "Exchange rates fetched successfully.\n",
      "Unrecognized country codes: ['AFA', 'LTL', 'SIT', 'SLS', 'PRB']\n"
     ]
    }
   ],
   "source": [
    "# Fetch Exchange Rates via API\n",
    "\n",
    "api_key = \"68451529dc62af68211f1843\"\n",
    "url = f\"https://v6.exchangerate-api.com/v6/{api_key}/latest/USD\"\n",
    "response = requests.get(url)\n",
    "\n",
    "if response.status_code == 200:\n",
    "    rates_dict = response.json()['conversion_rates']\n",
    "    print(\"Exchange rates fetched successfully.\")\n",
    "else:\n",
    "    rates_dict = {}\n",
    "    print(\"Error fetching exchange rates.\")\n",
    "\n",
    "# Identify country codes from the data that aren't recognized by the API\n",
    "all_codes = df_clean['Parsed_CountryCode'].dropna().unique()\n",
    "unrecognized_codes = [code for code in all_codes if code not in rates_dict]\n",
    "print(f\"Unrecognized country codes: {unrecognized_codes}\")"
   ]
  },
  {
   "cell_type": "code",
   "execution_count": 6,
   "id": "1cf477b5-0074-4793-b794-fea7c839599f",
   "metadata": {},
   "outputs": [],
   "source": [
    "# Define USD Conversion Function and Apply It\n",
    "\n",
    "# Convert each banknote's denomination into USD\n",
    "def calculate_usd_value(row):\n",
    "    denom = row['Parsed_Denomination']\n",
    "    code = row['Parsed_CountryCode']\n",
    "    if pd.isna(denom) or pd.isna(code):\n",
    "        return None\n",
    "    rate = rates_dict.get(code)\n",
    "    return denom / rate if rate else None\n",
    "\n",
    "df_clean['Live_USD_Value'] = df_clean.apply(calculate_usd_value, axis=1)"
   ]
  },
  {
   "cell_type": "code",
   "execution_count": 7,
   "id": "9805e2a2-2da2-4846-bb16-75de469009ef",
   "metadata": {},
   "outputs": [
    {
     "name": "stdout",
     "output_type": "stream",
     "text": [
      "Exported 71 error entries to /Users/theoforget/Downloads/error_entries.csv\n"
     ]
    }
   ],
   "source": [
    "# Error Detection and Export to CSV\n",
    "\n",
    "# Identify rows with missing data or unknown currencies for review\n",
    "df_clean['Parsing_Error'] = df_clean[['Parsed_Grade', 'Parsed_SerialNumber', 'Parsed_LocationAcquired', \n",
    "                                      'Parsed_DateAcquired', 'Parsed_Acquirer', 'Parsed_Denomination', 'Parsed_CountryCode']].isnull().any(axis=1)\n",
    "df_clean['Unknown_Currency'] = ~df_clean['Parsed_CountryCode'].isin(rates_dict.keys()) & df_clean['Parsed_CountryCode'].notna()\n",
    "\n",
    "error_rows = df_clean[df_clean['Parsing_Error'] | df_clean['Unknown_Currency']]\n",
    "error_csv_path = \"/Users/theoforget/Downloads/error_entries.csv\"\n",
    "error_rows.to_csv(error_csv_path, index=False)\n",
    "print(f\"Exported {len(error_rows)} error entries to {error_csv_path}\")"
   ]
  },
  {
   "cell_type": "code",
   "execution_count": 8,
   "id": "bdbbab5f-3591-4639-b986-bbb7522eeb10",
   "metadata": {},
   "outputs": [
    {
     "name": "stdout",
     "output_type": "stream",
     "text": [
      "Total collection value (exact): $2,987.74\n",
      "Estimated total value: $3,210.57\n",
      "Total items: 1023, Items with live value: 952, Missing values: 71\n"
     ]
    }
   ],
   "source": [
    "# Summary Statistics and Estimated Value\n",
    "\n",
    "total_value = df_clean['Live_USD_Value'].sum()\n",
    "total_rows = len(df_clean)\n",
    "converted_rows = df_clean['Live_USD_Value'].notna().sum()\n",
    "# Estimate total collection value even for notes with missing data by scaling up\n",
    "estimated_value = total_value * (total_rows / converted_rows) if converted_rows else 0\n",
    "\n",
    "print(f\"Total collection value (exact): ${total_value:,.2f}\")\n",
    "print(f\"Estimated total value: ${estimated_value:,.2f}\")\n",
    "print(f\"Total items: {total_rows}, Items with live value: {converted_rows}, Missing values: {total_rows - converted_rows}\")"
   ]
  },
  {
   "cell_type": "code",
   "execution_count": 9,
   "id": "0d0e5ea4-433d-41d5-ad85-b499529bce9b",
   "metadata": {},
   "outputs": [
    {
     "data": {
      "image/png": "[encoded data removed]",
      "text/plain": [
       "<Figure size 700x300 with 1 Axes>"
      ]
     },
     "metadata": {},
     "output_type": "display_data"
    }
   ],
   "source": [
    "# Visualization: Top 5 Most Valuable Banknotes\n",
    "\n",
    "df_clean['Year'] = pd.to_numeric(df_clean['Year'], errors='coerce').fillna(0).astype(int)\n",
    "top_notes = df_clean.sort_values(by='Live_USD_Value', ascending=False).head(5)\n",
    "top_notes['Label'] = top_notes['Title'] + \" (\" + top_notes['Issuer'] + \", \" + top_notes['Year'].astype(str) + \")\"\n",
    "\n",
    "plt.figure(figsize=(7, 3))\n",
    "plt.barh(top_notes['Label'], top_notes['Live_USD_Value'])\n",
    "plt.xlabel('Value in USD')\n",
    "plt.title('Top 5 Most Valuable Banknotes')\n",
    "plt.gca().invert_yaxis()\n",
    "plt.show()"
   ]
  },
  {
   "cell_type": "code",
   "execution_count": 10,
   "id": "398c4676-2a4d-424a-bdbb-ad47bcdb7bba",
   "metadata": {},
   "outputs": [
    {
     "name": "stdout",
     "output_type": "stream",
     "text": [
      "\n",
      "Acquirers and the number of banknotes they acquired:\n",
      "Stephan Forget            673\n",
      "Theo Forget               285\n",
      "Florence Cohen Solal        7\n",
      "Jean-Paul Cohen Solal       5\n",
      "Julie Forget                5\n",
      "Aswani Aswaid               4\n",
      "Beatriz Aguiar Fonseca      2\n",
      "Regine Solal                1\n",
      "Duncan Koblas               1\n",
      "Tatabelle/Mamita            1\n",
      "Traile Wilson               1\n"
     ]
    }
   ],
   "source": [
    "# Acquirer Counts\n",
    "\n",
    "acquirer_counts = df_clean['Parsed_Acquirer'].value_counts(dropna=True)\n",
    "print(\"\\nAcquirers and the number of banknotes they acquired:\")\n",
    "print(acquirer_counts.to_string(index=True, header=False))"
   ]
  },
  {
   "cell_type": "code",
   "execution_count": 11,
   "id": "6611dbc0-9c3a-4770-af7c-8f9cb22e159a",
   "metadata": {},
   "outputs": [
    {
     "name": "stdout",
     "output_type": "stream",
     "text": [
      "\n",
      "Location matches Issuer: 868 items\n",
      "Location does NOT match Issuer: 155 items\n"
     ]
    }
   ],
   "source": [
    "# Consistency Check (Location vs Issuer)\n",
    "\n",
    "# Check if the acquisition location matches the issuer or is a substring\n",
    "condition_equal = df_clean['Parsed_LocationAcquired'] == df_clean['Issuer']\n",
    "condition_substring = df_clean.apply(\n",
    "    lambda row: pd.notna(row['Parsed_LocationAcquired']) and pd.notna(row['Issuer']) and \n",
    "                row['Parsed_LocationAcquired'] in row['Issuer'],\n",
    "    axis=1\n",
    ")\n",
    "matching_rows = df_clean[condition_equal | condition_substring]\n",
    "print(f\"\\nLocation matches Issuer: {len(matching_rows)} items\")\n",
    "print(f\"Location does NOT match Issuer: {len(df_clean) - len(matching_rows)} items\")"
   ]
  }
 ],
 "metadata": {
  "kernelspec": {
   "display_name": "Python 3 (ipykernel)",
   "language": "python",
   "name": "python3"
  },
  "language_info": {
   "codemirror_mode": {
    "name": "ipython",
    "version": 3
   },
   "file_extension": ".py",
   "mimetype": "text/x-python",
   "name": "python",
   "nbconvert_exporter": "python",
   "pygments_lexer": "ipython3",
   "version": "3.11.5"
  }
 },
 "nbformat": 4,
 "nbformat_minor": 5
}
